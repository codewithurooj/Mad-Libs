{
  "nbformat": 4,
  "nbformat_minor": 0,
  "metadata": {
    "colab": {
      "provenance": []
    },
    "kernelspec": {
      "name": "python3",
      "display_name": "Python 3"
    },
    "language_info": {
      "name": "python"
    }
  },
  "cells": [
    {
      "cell_type": "code",
      "source": [
        "print (\"Hello World\")"
      ],
      "metadata": {
        "colab": {
          "base_uri": "https://localhost:8080/",
          "height": 0
        },
        "id": "ilKR5doYf2r7",
        "outputId": "06948861-b27d-4064-8793-d4dcf107e298"
      },
      "execution_count": 1,
      "outputs": [
        {
          "output_type": "stream",
          "name": "stdout",
          "text": [
            "Hello World\n"
          ]
        }
      ]
    },
    {
      "cell_type": "code",
      "source": [
        "#Mad Libs game\n",
        "name  =  input(\"Enter your name:\")\n",
        "place =  input(\"Enter your place:\")\n",
        "animal= input(\"Enter your animal\")\n",
        "exclamation=input(\"Enter your exclamation:\")\n",
        "verb=input (\"Enter your verb:\")\n",
        "noun=input(\"Enter your noun:\")\n",
        "#Mad Libs story paragraph\n",
        "story = f\"\"\"\n",
        "one day, {name} went to {place} and saw a {animal} running around. \"{exclamation}!\" {name} exclaimed.\n",
        "without hesitation, {name} decided to {verb} after the {animal}.\n",
        "After a while, they both stumbled upon a mysterious {noun}. It was an unforgettable adventure!\n",
        "\"\"\"\n",
        "print(\"Your story is:\")\n",
        "print(story)"
      ],
      "metadata": {
        "colab": {
          "base_uri": "https://localhost:8080/"
        },
        "id": "7KgPMaTVgE6o",
        "outputId": "01b78af5-2005-4c32-def4-007398624fed"
      },
      "execution_count": 2,
      "outputs": [
        {
          "output_type": "stream",
          "name": "stdout",
          "text": [
            "Enter your name:Syeda Urooj Fatima\n",
            "Enter your place:karachi\n",
            "Enter your animalCat\n",
            "Enter your exclamation:!\n",
            "Enter your verb:Going\n",
            "Enter your noun:School\n",
            "Your story is:\n",
            "\n",
            "one day, Syeda Urooj Fatima went to karachi and saw a Cat running around. \"!!\" Syeda Urooj Fatima exclaimed.\n",
            "without hesitation, Syeda Urooj Fatima decided to Going after the Cat.\n",
            "After a while, they both stumbled upon a mysterious School. It was an unforgettable adventure!\n",
            "\n"
          ]
        }
      ]
    }
  ]
}